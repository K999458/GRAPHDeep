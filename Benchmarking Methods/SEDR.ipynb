{
 "cells": [
  {
   "cell_type": "code",
   "execution_count": 1,
   "metadata": {},
   "outputs": [
    {
     "name": "stdout",
     "output_type": "stream",
     "text": [
      "===== Using device: cuda:0\n"
     ]
    }
   ],
   "source": [
    "import torch\n",
    "import argparse\n",
    "import warnings\n",
    "import numpy as np\n",
    "import pandas as pd\n",
    "from src.graph_func import graph_construction\n",
    "from src.utils_func import mk_dir, adata_preprocess, load_ST_file\n",
    "import anndata\n",
    "from src.SEDR_train import SEDR_Train\n",
    "from sklearn import metrics\n",
    "import matplotlib.pyplot as plt\n",
    "import scanpy as sc\n",
    "import squidpy as sq\n",
    "import os\n",
    "\n",
    "warnings.filterwarnings('ignore')\n",
    "torch.cuda.cudnn_enabled = False\n",
    "np.random.seed(0)\n",
    "torch.manual_seed(0)\n",
    "torch.cuda.manual_seed(0)\n",
    "device = 'cuda:0' if torch.cuda.is_available() else 'cpu'\n",
    "print('===== Using device: ' + device)"
   ]
  },
  {
   "cell_type": "code",
   "execution_count": 2,
   "metadata": {},
   "outputs": [],
   "source": [
    "def res_search_fixed_clus(adata, fixed_clus_count, increment=0.02):\n",
    "    '''\n",
    "        arg1(adata)[AnnData matrix]\n",
    "        arg2(fixed_clus_count)[int]\n",
    "        \n",
    "        return:\n",
    "            resolution[int]\n",
    "    '''\n",
    "    for res in sorted(list(np.arange(0.2, 2.5, increment)), reverse=True):\n",
    "        sc.tl.leiden(adata, random_state=0, resolution=res)\n",
    "        count_unique_leiden = len(pd.DataFrame(adata.obs['leiden']).leiden.unique())\n",
    "        if count_unique_leiden == fixed_clus_count:\n",
    "            break\n",
    "    return res"
   ]
  },
  {
   "cell_type": "code",
   "execution_count": 3,
   "metadata": {},
   "outputs": [],
   "source": [
    "# ################ Parameter setting\n",
    "parser = argparse.ArgumentParser()\n",
    "parser.add_argument('--k', type=int, default=10, help='parameter k in spatial graph')\n",
    "parser.add_argument('--knn_distanceType', type=str, default='euclidean',\n",
    "                    help='graph distance type: euclidean/cosine/correlation')\n",
    "parser.add_argument('--epochs', type=int, default=200, help='Number of epochs to train.')\n",
    "parser.add_argument('--cell_feat_dim', type=int, default=200, help='Dim of PCA')\n",
    "parser.add_argument('--feat_hidden1', type=int, default=100, help='Dim of DNN hidden 1-layer.')\n",
    "parser.add_argument('--feat_hidden2', type=int, default=20, help='Dim of DNN hidden 2-layer.')\n",
    "parser.add_argument('--gcn_hidden1', type=int, default=32, help='Dim of GCN hidden 1-layer.')\n",
    "parser.add_argument('--gcn_hidden2', type=int, default=8, help='Dim of GCN hidden 2-layer.')\n",
    "parser.add_argument('--p_drop', type=float, default=0.2, help='Dropout rate.')\n",
    "parser.add_argument('--using_dec', type=bool, default=True, help='Using DEC loss.')\n",
    "parser.add_argument('--using_mask', type=bool, default=False, help='Using mask for multi-dataset.')\n",
    "parser.add_argument('--feat_w', type=float, default=10, help='Weight of DNN loss.')\n",
    "parser.add_argument('--gcn_w', type=float, default=0.1, help='Weight of GCN loss.')\n",
    "parser.add_argument('--dec_kl_w', type=float, default=10, help='Weight of DEC loss.')\n",
    "parser.add_argument('--gcn_lr', type=float, default=0.01, help='Initial GNN learning rate.')\n",
    "parser.add_argument('--gcn_decay', type=float, default=0.01, help='Initial decay rate.')\n",
    "parser.add_argument('--dec_cluster_n', type=int, default=10, help='DEC cluster number.')\n",
    "parser.add_argument('--dec_interval', type=int, default=20, help='DEC interval nnumber.')\n",
    "parser.add_argument('--dec_tol', type=float, default=0.00, help='DEC tol.')\n",
    "# ______________ Eval clustering Setting ______________\n",
    "parser.add_argument('--eval_resolution', type=int, default=1, help='Eval cluster number.')\n",
    "parser.add_argument('--eval_graph_n', type=int, default=20, help='Eval graph kN tol.') \n",
    "parser.add_argument('-f')\n",
    "\n",
    "params = parser.parse_args(args=[])\n",
    "# args, unknown = parser.parse_known_args()\n",
    "params.device = device"
   ]
  },
  {
   "cell_type": "code",
   "execution_count": 4,
   "metadata": {},
   "outputs": [
    {
     "name": "stdout",
     "output_type": "stream",
     "text": [
      "===== Preprocessing Data \n",
      "==== Graph Construction Finished\n"
     ]
    }
   ],
   "source": [
    "# ################ Path setting\n",
    "# data_root = './data/DLPFC'\n",
    "data_root = '/home/tengliu/Torch_pyG/Slide_seqV2_Comparison/SPGDL/data/Slide-seqV2'\n",
    "save_root = '/home/tengliu/Paper2_Genome_Biology/10. Slide-seqV2_training/Benchmarking methods/Results'\n",
    "data_name = 'Slide_seqV2'\n",
    "n_clusters = 14\n",
    "\n",
    "# adata_h5=sc.read('/home/tengliu/Torch_pyG/Slide_seqV2_Comparison/SEDR/Slide_seqV2_adataforSEDR.h5ad')\n",
    "adata_h5 = sq.datasets.slideseqv2() # 4000高变基因\n",
    "adata_h5.var_names_make_unique()\n",
    "adata_h5= adata_h5[(adata_h5.obs[\"x\"]>=1000) & (adata_h5.obs[\"x\"]<=5600) & (adata_h5.obs[\"y\"]<=5400) & (adata_h5.obs[\"y\"]>=2600)]\n",
    "\n",
    "adata_X = adata_preprocess(adata_h5, min_cells=5, pca_n_comps=params.cell_feat_dim)\n",
    "graph_dict = graph_construction(adata_h5.obsm['spatial'], adata_h5.shape[0], params)\n",
    "params.save_path = mk_dir(f'save_root/SEDR')\n",
    "\n",
    "params.cell_num = adata_h5.shape[0]\n",
    "print('==== Graph Construction Finished')"
   ]
  },
  {
   "cell_type": "code",
   "execution_count": 6,
   "metadata": {},
   "outputs": [
    {
     "data": {
      "text/plain": [
       "TACTTTAGCGCAGT    CA1_CA2_CA3_Subiculum\n",
       "TCGATATGGCACAA          DentatePyramids\n",
       "ACGGATGTTCCGAT         Oligodendrocytes\n",
       "TCTCATGGGTGGGA               Astrocytes\n",
       "ACAGGGTTTATCGA    CA1_CA2_CA3_Subiculum\n",
       "                          ...          \n",
       "CTGGCTTTAGACCT    CA1_CA2_CA3_Subiculum\n",
       "CGTCGGATGTAGGG                Microglia\n",
       "CTTGATTAGGCAGG             Interneurons\n",
       "GCGCTCAGTGCTCT             Interneurons\n",
       "GAGATAACAGTTCC               Astrocytes\n",
       "Name: cluster, Length: 26146, dtype: category\n",
       "Categories (14, object): ['Astrocytes', 'CA1_CA2_CA3_Subiculum', 'DentatePyramids', 'Endothelial_Stalk', ..., 'Oligodendrocytes', 'Polydendrocytes', 'Subiculum_Entorhinal_cl2', 'Subiculum_Entorhinal_cl3']"
      ]
     },
     "execution_count": 6,
     "metadata": {},
     "output_type": "execute_result"
    }
   ],
   "source": [
    "adata_h5.obs[\"cluster\"]"
   ]
  },
  {
   "cell_type": "code",
   "execution_count": 7,
   "metadata": {},
   "outputs": [
    {
     "name": "stderr",
     "output_type": "stream",
     "text": [
      "\u001b[KGNN model train without DEC:  |################| 200 / 200 | Left time: 0.01 mins| Loss: 22.3342\n",
      "\u001b[KTraining Graph Net with DEC loss:  |################| 200 / 200 | Loss: 22.1735\n",
      "\u001b[?25h"
     ]
    }
   ],
   "source": [
    "import time\n",
    "start_time = time.time()\n",
    "# ################## Model training\n",
    "sedr_net = SEDR_Train(adata_X, graph_dict, params)\n",
    "if params.using_dec:\n",
    "    sedr_net.train_with_dec()\n",
    "else:\n",
    "    sedr_net.train_without_dec()\n",
    "sedr_feat, _, _, _ = sedr_net.process()\n",
    "\n",
    "np.savez(f'{params.save_path}/SEDR_result.npz', sedr_feat=sedr_feat, deep_Dim=params.feat_hidden2)\n",
    "end_time = time.time()"
   ]
  },
  {
   "cell_type": "code",
   "execution_count": 8,
   "metadata": {},
   "outputs": [
    {
     "name": "stderr",
     "output_type": "stream",
     "text": [
      "2022-12-27 09:37:04.566952: I tensorflow/core/platform/cpu_feature_guard.cc:193] This TensorFlow binary is optimized with oneAPI Deep Neural Network Library (oneDNN) to use the following CPU instructions in performance-critical operations:  AVX2 AVX_VNNI FMA\n",
      "To enable them in other operations, rebuild TensorFlow with the appropriate compiler flags.\n",
      "2022-12-27 09:37:04.796844: I tensorflow/core/util/util.cc:169] oneDNN custom operations are on. You may see slightly different numerical results due to floating-point round-off errors from different computation orders. To turn them off, set the environment variable `TF_ENABLE_ONEDNN_OPTS=0`.\n",
      "2022-12-27 09:37:04.853508: E tensorflow/stream_executor/cuda/cuda_blas.cc:2981] Unable to register cuBLAS factory: Attempting to register factory for plugin cuBLAS when one has already been registered\n",
      "2022-12-27 09:37:05.507326: W tensorflow/stream_executor/platform/default/dso_loader.cc:64] Could not load dynamic library 'libnvinfer.so.7'; dlerror: libnvinfer.so.7: cannot open shared object file: No such file or directory; LD_LIBRARY_PATH: /usr/local/cuda-11.7/lib64\n",
      "2022-12-27 09:37:05.507457: W tensorflow/stream_executor/platform/default/dso_loader.cc:64] Could not load dynamic library 'libnvinfer_plugin.so.7'; dlerror: libnvinfer_plugin.so.7: cannot open shared object file: No such file or directory; LD_LIBRARY_PATH: /usr/local/cuda-11.7/lib64\n",
      "2022-12-27 09:37:05.507466: W tensorflow/compiler/tf2tensorrt/utils/py_utils.cc:38] TF-TRT Warning: Cannot dlopen some TensorRT libraries. If you would like to use Nvidia GPU with TensorRT, please make sure the missing libraries mentioned above are installed properly.\n"
     ]
    }
   ],
   "source": [
    "# ################## Result plot\n",
    "adata_sedr = anndata.AnnData(sedr_feat)\n",
    "adata_sedr.uns[\"Time\"] = end_time-start_time\n",
    "# adata_sedr.uns['spatial'] = adata_h5.uns['spatial'] #Slide_seqV2这个数据集没有uns里面的sptial文件夹\n",
    "adata_sedr.obsm['spatial'] = adata_h5.obsm['spatial']\n",
    "\n",
    "sc.pp.neighbors(adata_sedr, n_neighbors=params.eval_graph_n)\n",
    "sc.tl.umap(adata_sedr)\n",
    "\n",
    "eval_resolution = res_search_fixed_clus(adata_sedr, n_clusters)\n",
    "\n",
    "sc.tl.leiden(adata_sedr, key_added=\"SEDR_leiden\", resolution=eval_resolution)\n",
    "\n",
    "### 没有img_key画不出图\n",
    "# sc.pl.spatial(adata_sedr, img_key=\"hires\", color=['SEDR_leiden'], show=False)\n",
    "# plt.savefig(os.path.join(params.save_path, \"SEDR_leiden_plot.pdf\"), bbox_inches='tight', dpi=300)"
   ]
  },
  {
   "cell_type": "code",
   "execution_count": 12,
   "metadata": {},
   "outputs": [
    {
     "data": {
      "text/plain": [
       "AnnData object with n_obs × n_vars = 26146 × 28\n",
       "    obs: 'leiden', 'SEDR_leiden'\n",
       "    uns: 'Time', 'neighbors', 'umap', 'leiden'\n",
       "    obsm: 'spatial', 'X_umap'\n",
       "    obsp: 'distances', 'connectivities'"
      ]
     },
     "execution_count": 12,
     "metadata": {},
     "output_type": "execute_result"
    }
   ],
   "source": [
    "adata_sedr"
   ]
  },
  {
   "cell_type": "code",
   "execution_count": 13,
   "metadata": {},
   "outputs": [
    {
     "data": {
      "text/plain": [
       "0         4\n",
       "1        12\n",
       "2         2\n",
       "3         2\n",
       "4        10\n",
       "         ..\n",
       "26141     6\n",
       "26142     0\n",
       "26143    11\n",
       "26144     6\n",
       "26145     0\n",
       "Name: SEDR_leiden, Length: 26146, dtype: category\n",
       "Categories (14, object): ['0', '1', '2', '3', ..., '10', '11', '12', '13']"
      ]
     },
     "execution_count": 13,
     "metadata": {},
     "output_type": "execute_result"
    }
   ],
   "source": [
    "adata_sedr.obs[\"SEDR_leiden\"]"
   ]
  },
  {
   "cell_type": "code",
   "execution_count": 11,
   "metadata": {},
   "outputs": [
    {
     "data": {
      "text/plain": [
       "TACTTTAGCGCAGT    CA1_CA2_CA3_Subiculum\n",
       "TCGATATGGCACAA          DentatePyramids\n",
       "ACGGATGTTCCGAT         Oligodendrocytes\n",
       "TCTCATGGGTGGGA               Astrocytes\n",
       "ACAGGGTTTATCGA    CA1_CA2_CA3_Subiculum\n",
       "                          ...          \n",
       "CTGGCTTTAGACCT    CA1_CA2_CA3_Subiculum\n",
       "CGTCGGATGTAGGG                Microglia\n",
       "CTTGATTAGGCAGG             Interneurons\n",
       "GCGCTCAGTGCTCT             Interneurons\n",
       "GAGATAACAGTTCC               Astrocytes\n",
       "Name: cluster, Length: 26146, dtype: category\n",
       "Categories (14, object): ['Astrocytes', 'CA1_CA2_CA3_Subiculum', 'DentatePyramids', 'Endothelial_Stalk', ..., 'Oligodendrocytes', 'Polydendrocytes', 'Subiculum_Entorhinal_cl2', 'Subiculum_Entorhinal_cl3']"
      ]
     },
     "execution_count": 11,
     "metadata": {},
     "output_type": "execute_result"
    }
   ],
   "source": [
    "adata_h5.obs[\"cluster\"]"
   ]
  },
  {
   "cell_type": "code",
   "execution_count": 19,
   "metadata": {},
   "outputs": [
    {
     "name": "stdout",
     "output_type": "stream",
     "text": [
      "Adjusted rand index = 0.18\n"
     ]
    }
   ],
   "source": [
    "from sklearn.cluster import KMeans\n",
    "from sklearn.metrics.cluster import adjusted_rand_score\n",
    "ARI = adjusted_rand_score(adata_sedr.obs[\"SEDR_leiden\"].to_list(), adata_h5.obs[\"cluster\"].to_list()) ## ARI 是从 包sklearn.metrics.cluster中导入的衡量标准\n",
    "print('Adjusted rand index = %.2f' %ARI)    \n",
    "adata_sedr.uns[\"ARI\"] = ARI"
   ]
  },
  {
   "cell_type": "code",
   "execution_count": 20,
   "metadata": {},
   "outputs": [
    {
     "data": {
      "text/plain": [
       "0.17503938621681597"
      ]
     },
     "execution_count": 20,
     "metadata": {},
     "output_type": "execute_result"
    }
   ],
   "source": [
    "adata_sedr.uns[\"ARI\"]"
   ]
  },
  {
   "cell_type": "code",
   "execution_count": 21,
   "metadata": {},
   "outputs": [],
   "source": [
    "import pickle\n",
    "file = open(\"./Results/Slide-seqV2_crop_SEDR.pickle\",\"wb\")\n",
    "pickle.dump(adata_sedr,file)\n",
    "file.close()"
   ]
  },
  {
   "cell_type": "code",
   "execution_count": null,
   "metadata": {},
   "outputs": [],
   "source": []
  },
  {
   "cell_type": "code",
   "execution_count": null,
   "metadata": {},
   "outputs": [],
   "source": []
  },
  {
   "cell_type": "code",
   "execution_count": null,
   "metadata": {},
   "outputs": [],
   "source": [
    "adata_sedr.obsm[\"spatial\"] = adata_sedr.obsm[\"spatial\"] * (-1)\n",
    "sc.pl.embedding(adata_sedr, basis=\"spatial\", color=\"SEDR_leiden\",s=6, show=False, title='SEDR')\n",
    "plt.axis('off')\n",
    "\n",
    "sc.pl.umap(adata_sedr,color=[\"SEDR_leiden\"],title='SEDR')"
   ]
  },
  {
   "cell_type": "code",
   "execution_count": null,
   "metadata": {},
   "outputs": [],
   "source": [
    "adata_filename = \"SEDR\"+\"_Slide_seqV2\"+\".h5ad\"\n",
    "adata_sedr.filename = './Results/'+adata_filename"
   ]
  },
  {
   "cell_type": "code",
   "execution_count": null,
   "metadata": {},
   "outputs": [],
   "source": []
  },
  {
   "cell_type": "code",
   "execution_count": null,
   "metadata": {},
   "outputs": [],
   "source": []
  }
 ],
 "metadata": {
  "kernelspec": {
   "display_name": "Python 3.8.12 ('Torch_pyG3')",
   "language": "python",
   "name": "python3"
  },
  "language_info": {
   "codemirror_mode": {
    "name": "ipython",
    "version": 3
   },
   "file_extension": ".py",
   "mimetype": "text/x-python",
   "name": "python",
   "nbconvert_exporter": "python",
   "pygments_lexer": "ipython3",
   "version": "3.8.12"
  },
  "orig_nbformat": 4,
  "vscode": {
   "interpreter": {
    "hash": "64e4572f651161aa7fd6bf900e1cbc345ab0964824e2b3e32a37aa6258425a76"
   }
  }
 },
 "nbformat": 4,
 "nbformat_minor": 2
}
